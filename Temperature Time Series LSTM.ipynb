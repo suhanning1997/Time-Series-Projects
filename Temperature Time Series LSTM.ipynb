{
 "cells": [
  {
   "cell_type": "markdown",
   "metadata": {},
   "source": [
    "## Project: using LSTM with various regularization techniques to model and predict temperature time series "
   ]
  },
  {
   "cell_type": "markdown",
   "metadata": {},
   "source": [
    "We consider observations of temperature (in Celsius) measured every 10 minutes in Jena, Germany between January 2009 and January 2017. The dataset is availible at https://www.bgc-jena.mpg.de/wetter/.\n",
    "\n",
    "In this simple project, the goal is to practice time series modelling by training a LSTM network with various combinations of activation functions and regularization techniques. I especially want to try out the early stopping technique. (More techniques will be tried out in the future.)\n",
    "\n",
    "We get our training set by chopping up the entire series into multiple pieces. For each piece, the latest temperature is treated as response and the rest of temperatures are input variables."
   ]
  },
  {
   "cell_type": "code",
   "execution_count": 1,
   "metadata": {},
   "outputs": [],
   "source": [
    "import pandas as pd\n",
    "import numpy as np\n",
    "import matplotlib.pyplot as plt\n",
    "\n",
    "from pandas import DataFrame\n",
    "from pandas import concat\n",
    "\n",
    "import keras\n",
    "from keras import layers\n",
    "from keras import models\n",
    "from keras import optimizers\n",
    "from keras import regularizers\n",
    "from keras.callbacks import EarlyStopping\n",
    "from keras.layers import Dropout"
   ]
  },
  {
   "cell_type": "code",
   "execution_count": 2,
   "metadata": {},
   "outputs": [
    {
     "data": {
      "text/html": [
       "<div>\n",
       "<style scoped>\n",
       "    .dataframe tbody tr th:only-of-type {\n",
       "        vertical-align: middle;\n",
       "    }\n",
       "\n",
       "    .dataframe tbody tr th {\n",
       "        vertical-align: top;\n",
       "    }\n",
       "\n",
       "    .dataframe thead th {\n",
       "        text-align: right;\n",
       "    }\n",
       "</style>\n",
       "<table border=\"1\" class=\"dataframe\">\n",
       "  <thead>\n",
       "    <tr style=\"text-align: right;\">\n",
       "      <th></th>\n",
       "      <th>p (mbar)</th>\n",
       "      <th>T (degC)</th>\n",
       "      <th>Tpot (K)</th>\n",
       "      <th>Tdew (degC)</th>\n",
       "      <th>rh (%)</th>\n",
       "      <th>VPmax (mbar)</th>\n",
       "      <th>VPact (mbar)</th>\n",
       "      <th>VPdef (mbar)</th>\n",
       "      <th>sh (g/kg)</th>\n",
       "      <th>H2OC (mmol/mol)</th>\n",
       "      <th>rho (g/m**3)</th>\n",
       "      <th>wv (m/s)</th>\n",
       "      <th>max. wv (m/s)</th>\n",
       "      <th>wd (deg)</th>\n",
       "    </tr>\n",
       "    <tr>\n",
       "      <th>Date Time</th>\n",
       "      <th></th>\n",
       "      <th></th>\n",
       "      <th></th>\n",
       "      <th></th>\n",
       "      <th></th>\n",
       "      <th></th>\n",
       "      <th></th>\n",
       "      <th></th>\n",
       "      <th></th>\n",
       "      <th></th>\n",
       "      <th></th>\n",
       "      <th></th>\n",
       "      <th></th>\n",
       "      <th></th>\n",
       "    </tr>\n",
       "  </thead>\n",
       "  <tbody>\n",
       "    <tr>\n",
       "      <th>2009-01-01 00:10:00</th>\n",
       "      <td>996.52</td>\n",
       "      <td>-8.02</td>\n",
       "      <td>265.40</td>\n",
       "      <td>-8.90</td>\n",
       "      <td>93.3</td>\n",
       "      <td>3.33</td>\n",
       "      <td>3.11</td>\n",
       "      <td>0.22</td>\n",
       "      <td>1.94</td>\n",
       "      <td>3.12</td>\n",
       "      <td>1307.75</td>\n",
       "      <td>1.03</td>\n",
       "      <td>1.75</td>\n",
       "      <td>152.3</td>\n",
       "    </tr>\n",
       "    <tr>\n",
       "      <th>2009-01-01 00:20:00</th>\n",
       "      <td>996.57</td>\n",
       "      <td>-8.41</td>\n",
       "      <td>265.01</td>\n",
       "      <td>-9.28</td>\n",
       "      <td>93.4</td>\n",
       "      <td>3.23</td>\n",
       "      <td>3.02</td>\n",
       "      <td>0.21</td>\n",
       "      <td>1.89</td>\n",
       "      <td>3.03</td>\n",
       "      <td>1309.80</td>\n",
       "      <td>0.72</td>\n",
       "      <td>1.50</td>\n",
       "      <td>136.1</td>\n",
       "    </tr>\n",
       "    <tr>\n",
       "      <th>2009-01-01 00:30:00</th>\n",
       "      <td>996.53</td>\n",
       "      <td>-8.51</td>\n",
       "      <td>264.91</td>\n",
       "      <td>-9.31</td>\n",
       "      <td>93.9</td>\n",
       "      <td>3.21</td>\n",
       "      <td>3.01</td>\n",
       "      <td>0.20</td>\n",
       "      <td>1.88</td>\n",
       "      <td>3.02</td>\n",
       "      <td>1310.24</td>\n",
       "      <td>0.19</td>\n",
       "      <td>0.63</td>\n",
       "      <td>171.6</td>\n",
       "    </tr>\n",
       "    <tr>\n",
       "      <th>2009-01-01 00:40:00</th>\n",
       "      <td>996.51</td>\n",
       "      <td>-8.31</td>\n",
       "      <td>265.12</td>\n",
       "      <td>-9.07</td>\n",
       "      <td>94.2</td>\n",
       "      <td>3.26</td>\n",
       "      <td>3.07</td>\n",
       "      <td>0.19</td>\n",
       "      <td>1.92</td>\n",
       "      <td>3.08</td>\n",
       "      <td>1309.19</td>\n",
       "      <td>0.34</td>\n",
       "      <td>0.50</td>\n",
       "      <td>198.0</td>\n",
       "    </tr>\n",
       "    <tr>\n",
       "      <th>2009-01-01 00:50:00</th>\n",
       "      <td>996.51</td>\n",
       "      <td>-8.27</td>\n",
       "      <td>265.15</td>\n",
       "      <td>-9.04</td>\n",
       "      <td>94.1</td>\n",
       "      <td>3.27</td>\n",
       "      <td>3.08</td>\n",
       "      <td>0.19</td>\n",
       "      <td>1.92</td>\n",
       "      <td>3.09</td>\n",
       "      <td>1309.00</td>\n",
       "      <td>0.32</td>\n",
       "      <td>0.63</td>\n",
       "      <td>214.3</td>\n",
       "    </tr>\n",
       "  </tbody>\n",
       "</table>\n",
       "</div>"
      ],
      "text/plain": [
       "                     p (mbar)  T (degC)  Tpot (K)  Tdew (degC)  rh (%)  \\\n",
       "Date Time                                                                \n",
       "2009-01-01 00:10:00    996.52     -8.02    265.40        -8.90    93.3   \n",
       "2009-01-01 00:20:00    996.57     -8.41    265.01        -9.28    93.4   \n",
       "2009-01-01 00:30:00    996.53     -8.51    264.91        -9.31    93.9   \n",
       "2009-01-01 00:40:00    996.51     -8.31    265.12        -9.07    94.2   \n",
       "2009-01-01 00:50:00    996.51     -8.27    265.15        -9.04    94.1   \n",
       "\n",
       "                     VPmax (mbar)  VPact (mbar)  VPdef (mbar)  sh (g/kg)  \\\n",
       "Date Time                                                                  \n",
       "2009-01-01 00:10:00          3.33          3.11          0.22       1.94   \n",
       "2009-01-01 00:20:00          3.23          3.02          0.21       1.89   \n",
       "2009-01-01 00:30:00          3.21          3.01          0.20       1.88   \n",
       "2009-01-01 00:40:00          3.26          3.07          0.19       1.92   \n",
       "2009-01-01 00:50:00          3.27          3.08          0.19       1.92   \n",
       "\n",
       "                     H2OC (mmol/mol)  rho (g/m**3)  wv (m/s)  max. wv (m/s)  \\\n",
       "Date Time                                                                     \n",
       "2009-01-01 00:10:00             3.12       1307.75      1.03           1.75   \n",
       "2009-01-01 00:20:00             3.03       1309.80      0.72           1.50   \n",
       "2009-01-01 00:30:00             3.02       1310.24      0.19           0.63   \n",
       "2009-01-01 00:40:00             3.08       1309.19      0.34           0.50   \n",
       "2009-01-01 00:50:00             3.09       1309.00      0.32           0.63   \n",
       "\n",
       "                     wd (deg)  \n",
       "Date Time                      \n",
       "2009-01-01 00:10:00     152.3  \n",
       "2009-01-01 00:20:00     136.1  \n",
       "2009-01-01 00:30:00     171.6  \n",
       "2009-01-01 00:40:00     198.0  \n",
       "2009-01-01 00:50:00     214.3  "
      ]
     },
     "metadata": {},
     "output_type": "display_data"
    },
    {
     "data": {
      "text/html": [
       "<div>\n",
       "<style scoped>\n",
       "    .dataframe tbody tr th:only-of-type {\n",
       "        vertical-align: middle;\n",
       "    }\n",
       "\n",
       "    .dataframe tbody tr th {\n",
       "        vertical-align: top;\n",
       "    }\n",
       "\n",
       "    .dataframe thead th {\n",
       "        text-align: right;\n",
       "    }\n",
       "</style>\n",
       "<table border=\"1\" class=\"dataframe\">\n",
       "  <thead>\n",
       "    <tr style=\"text-align: right;\">\n",
       "      <th></th>\n",
       "      <th>p (mbar)</th>\n",
       "      <th>T (degC)</th>\n",
       "      <th>Tpot (K)</th>\n",
       "      <th>Tdew (degC)</th>\n",
       "      <th>rh (%)</th>\n",
       "      <th>VPmax (mbar)</th>\n",
       "      <th>VPact (mbar)</th>\n",
       "      <th>VPdef (mbar)</th>\n",
       "      <th>sh (g/kg)</th>\n",
       "      <th>H2OC (mmol/mol)</th>\n",
       "      <th>rho (g/m**3)</th>\n",
       "      <th>wv (m/s)</th>\n",
       "      <th>max. wv (m/s)</th>\n",
       "      <th>wd (deg)</th>\n",
       "    </tr>\n",
       "    <tr>\n",
       "      <th>Date Time</th>\n",
       "      <th></th>\n",
       "      <th></th>\n",
       "      <th></th>\n",
       "      <th></th>\n",
       "      <th></th>\n",
       "      <th></th>\n",
       "      <th></th>\n",
       "      <th></th>\n",
       "      <th></th>\n",
       "      <th></th>\n",
       "      <th></th>\n",
       "      <th></th>\n",
       "      <th></th>\n",
       "      <th></th>\n",
       "    </tr>\n",
       "  </thead>\n",
       "  <tbody>\n",
       "    <tr>\n",
       "      <th>2016-12-31 23:20:00</th>\n",
       "      <td>1000.07</td>\n",
       "      <td>-4.05</td>\n",
       "      <td>269.10</td>\n",
       "      <td>-8.13</td>\n",
       "      <td>73.10</td>\n",
       "      <td>4.52</td>\n",
       "      <td>3.30</td>\n",
       "      <td>1.22</td>\n",
       "      <td>2.06</td>\n",
       "      <td>3.30</td>\n",
       "      <td>1292.98</td>\n",
       "      <td>0.67</td>\n",
       "      <td>1.52</td>\n",
       "      <td>240.0</td>\n",
       "    </tr>\n",
       "    <tr>\n",
       "      <th>2016-12-31 23:30:00</th>\n",
       "      <td>999.93</td>\n",
       "      <td>-3.35</td>\n",
       "      <td>269.81</td>\n",
       "      <td>-8.06</td>\n",
       "      <td>69.71</td>\n",
       "      <td>4.77</td>\n",
       "      <td>3.32</td>\n",
       "      <td>1.44</td>\n",
       "      <td>2.07</td>\n",
       "      <td>3.32</td>\n",
       "      <td>1289.44</td>\n",
       "      <td>1.14</td>\n",
       "      <td>1.92</td>\n",
       "      <td>234.3</td>\n",
       "    </tr>\n",
       "    <tr>\n",
       "      <th>2016-12-31 23:40:00</th>\n",
       "      <td>999.82</td>\n",
       "      <td>-3.16</td>\n",
       "      <td>270.01</td>\n",
       "      <td>-8.21</td>\n",
       "      <td>67.91</td>\n",
       "      <td>4.84</td>\n",
       "      <td>3.28</td>\n",
       "      <td>1.55</td>\n",
       "      <td>2.05</td>\n",
       "      <td>3.28</td>\n",
       "      <td>1288.39</td>\n",
       "      <td>1.08</td>\n",
       "      <td>2.00</td>\n",
       "      <td>215.2</td>\n",
       "    </tr>\n",
       "    <tr>\n",
       "      <th>2016-12-31 23:50:00</th>\n",
       "      <td>999.81</td>\n",
       "      <td>-4.23</td>\n",
       "      <td>268.94</td>\n",
       "      <td>-8.53</td>\n",
       "      <td>71.80</td>\n",
       "      <td>4.46</td>\n",
       "      <td>3.20</td>\n",
       "      <td>1.26</td>\n",
       "      <td>1.99</td>\n",
       "      <td>3.20</td>\n",
       "      <td>1293.56</td>\n",
       "      <td>1.49</td>\n",
       "      <td>2.16</td>\n",
       "      <td>225.8</td>\n",
       "    </tr>\n",
       "    <tr>\n",
       "      <th>2017-01-01 00:00:00</th>\n",
       "      <td>999.82</td>\n",
       "      <td>-4.82</td>\n",
       "      <td>268.36</td>\n",
       "      <td>-8.42</td>\n",
       "      <td>75.70</td>\n",
       "      <td>4.27</td>\n",
       "      <td>3.23</td>\n",
       "      <td>1.04</td>\n",
       "      <td>2.01</td>\n",
       "      <td>3.23</td>\n",
       "      <td>1296.38</td>\n",
       "      <td>1.23</td>\n",
       "      <td>1.96</td>\n",
       "      <td>184.9</td>\n",
       "    </tr>\n",
       "  </tbody>\n",
       "</table>\n",
       "</div>"
      ],
      "text/plain": [
       "                     p (mbar)  T (degC)  Tpot (K)  Tdew (degC)  rh (%)  \\\n",
       "Date Time                                                                \n",
       "2016-12-31 23:20:00   1000.07     -4.05    269.10        -8.13   73.10   \n",
       "2016-12-31 23:30:00    999.93     -3.35    269.81        -8.06   69.71   \n",
       "2016-12-31 23:40:00    999.82     -3.16    270.01        -8.21   67.91   \n",
       "2016-12-31 23:50:00    999.81     -4.23    268.94        -8.53   71.80   \n",
       "2017-01-01 00:00:00    999.82     -4.82    268.36        -8.42   75.70   \n",
       "\n",
       "                     VPmax (mbar)  VPact (mbar)  VPdef (mbar)  sh (g/kg)  \\\n",
       "Date Time                                                                  \n",
       "2016-12-31 23:20:00          4.52          3.30          1.22       2.06   \n",
       "2016-12-31 23:30:00          4.77          3.32          1.44       2.07   \n",
       "2016-12-31 23:40:00          4.84          3.28          1.55       2.05   \n",
       "2016-12-31 23:50:00          4.46          3.20          1.26       1.99   \n",
       "2017-01-01 00:00:00          4.27          3.23          1.04       2.01   \n",
       "\n",
       "                     H2OC (mmol/mol)  rho (g/m**3)  wv (m/s)  max. wv (m/s)  \\\n",
       "Date Time                                                                     \n",
       "2016-12-31 23:20:00             3.30       1292.98      0.67           1.52   \n",
       "2016-12-31 23:30:00             3.32       1289.44      1.14           1.92   \n",
       "2016-12-31 23:40:00             3.28       1288.39      1.08           2.00   \n",
       "2016-12-31 23:50:00             3.20       1293.56      1.49           2.16   \n",
       "2017-01-01 00:00:00             3.23       1296.38      1.23           1.96   \n",
       "\n",
       "                     wd (deg)  \n",
       "Date Time                      \n",
       "2016-12-31 23:20:00     240.0  \n",
       "2016-12-31 23:30:00     234.3  \n",
       "2016-12-31 23:40:00     215.2  \n",
       "2016-12-31 23:50:00     225.8  \n",
       "2017-01-01 00:00:00     184.9  "
      ]
     },
     "metadata": {},
     "output_type": "display_data"
    },
    {
     "data": {
      "text/plain": [
       "420546   -4.05\n",
       "420547   -3.35\n",
       "420548   -3.16\n",
       "420549   -4.23\n",
       "420550   -4.82\n",
       "Name: T (degC), dtype: float64"
      ]
     },
     "execution_count": 2,
     "metadata": {},
     "output_type": "execute_result"
    }
   ],
   "source": [
    "df = pd.read_csv('C:/Users/Hanning Su/Desktop/Time Series Analysis with Python/Final/jena_climate_2009_2016.csv',parse_dates=True,index_col='Date Time')\n",
    "xt = df['T (degC)']\n",
    "xt = xt.reset_index(drop=True)\n",
    "display(df.head())\n",
    "display(df.tail())\n",
    "xt.tail()"
   ]
  },
  {
   "cell_type": "code",
   "execution_count": 3,
   "metadata": {},
   "outputs": [
    {
     "name": "stdout",
     "output_type": "stream",
     "text": [
      "(420551, 14)\n"
     ]
    },
    {
     "data": {
      "text/plain": [
       "p (mbar)           0\n",
       "T (degC)           0\n",
       "Tpot (K)           0\n",
       "Tdew (degC)        0\n",
       "rh (%)             0\n",
       "VPmax (mbar)       0\n",
       "VPact (mbar)       0\n",
       "VPdef (mbar)       0\n",
       "sh (g/kg)          0\n",
       "H2OC (mmol/mol)    0\n",
       "rho (g/m**3)       0\n",
       "wv (m/s)           0\n",
       "max. wv (m/s)      0\n",
       "wd (deg)           0\n",
       "dtype: int64"
      ]
     },
     "execution_count": 3,
     "metadata": {},
     "output_type": "execute_result"
    }
   ],
   "source": [
    "# missing values\n",
    "print(df.shape)\n",
    "df.isnull().sum()"
   ]
  },
  {
   "cell_type": "code",
   "execution_count": 4,
   "metadata": {},
   "outputs": [],
   "source": [
    "n_timesteps = 34\n",
    "\n",
    "features_set = []\n",
    "labels = []\n",
    "for i in range(n_timesteps, xt.shape[0]):\n",
    "    features_set.append(xt[i-n_timesteps:i])\n",
    "    labels.append(xt[i])\n",
    "    \n",
    "features_set, labels = np.array(features_set), np.array(labels)\n",
    "features_set = np.reshape(features_set,(features_set.shape[0], features_set.shape[1], 1))"
   ]
  },
  {
   "cell_type": "code",
   "execution_count": 5,
   "metadata": {},
   "outputs": [
    {
     "name": "stdout",
     "output_type": "stream",
     "text": [
      "features_set.shape is  (420517, 34, 1)\n",
      "labels.shape is  (420517,)\n"
     ]
    }
   ],
   "source": [
    "print(\"features_set.shape is \", features_set.shape)\n",
    "print(\"labels.shape is \", labels.shape)"
   ]
  },
  {
   "cell_type": "code",
   "execution_count": 6,
   "metadata": {},
   "outputs": [
    {
     "name": "stdout",
     "output_type": "stream",
     "text": [
      "features_set_train.shape is  (378465, 34, 1)\n",
      "labels_train.shape is  (378465,)\n",
      "\n",
      "features_set_test.shape is  (42052, 34, 1)\n",
      "labels_test.shape is  (42052,)\n"
     ]
    }
   ],
   "source": [
    "# split into train and test sets\n",
    "n = features_set.shape[0]\n",
    "n_train = int(n * 0.90)\n",
    "n_test = n - n_train\n",
    "#print(\"n_train = \",str(n_train))\n",
    "#print(\"n_test = \",str(n_test))\n",
    "\n",
    "features_set_train, features_set_test =  features_set[0:n_train,:,:], features_set[n_train:n,:,:]\n",
    "labels_train, labels_test =  labels[0:n_train], labels[n_train:n]\n",
    "\n",
    "print(\"features_set_train.shape is \", features_set_train.shape)\n",
    "print(\"labels_train.shape is \", labels_train.shape)\n",
    "print(\"\\nfeatures_set_test.shape is \", features_set_test.shape)\n",
    "print(\"labels_test.shape is \", labels_test.shape)"
   ]
  },
  {
   "cell_type": "code",
   "execution_count": 7,
   "metadata": {},
   "outputs": [
    {
     "name": "stdout",
     "output_type": "stream",
     "text": [
      "2 first features:\n"
     ]
    },
    {
     "data": {
      "text/plain": [
       "array([[-8.02, -8.41, -8.51, -8.31, -8.27, -8.05, -7.62, -7.62, -7.91,\n",
       "        -8.43, -8.76, -8.88, -8.85, -8.83, -8.66, -8.66, -8.7 , -8.81,\n",
       "        -8.84, -8.94, -8.94, -8.86, -8.99, -9.05, -9.23, -9.49, -9.5 ,\n",
       "        -9.35, -9.47, -9.63, -9.67, -9.68, -9.9 , -9.91],\n",
       "       [-8.41, -8.51, -8.31, -8.27, -8.05, -7.62, -7.62, -7.91, -8.43,\n",
       "        -8.76, -8.88, -8.85, -8.83, -8.66, -8.66, -8.7 , -8.81, -8.84,\n",
       "        -8.94, -8.94, -8.86, -8.99, -9.05, -9.23, -9.49, -9.5 , -9.35,\n",
       "        -9.47, -9.63, -9.67, -9.68, -9.9 , -9.91, -9.51]])"
      ]
     },
     "metadata": {},
     "output_type": "display_data"
    },
    {
     "name": "stdout",
     "output_type": "stream",
     "text": [
      "2 first labels:\n"
     ]
    },
    {
     "data": {
      "text/plain": [
       "array([-9.51, -9.67])"
      ]
     },
     "metadata": {},
     "output_type": "display_data"
    }
   ],
   "source": [
    "print(\"2 first features:\")\n",
    "display(features_set_train[0:2,:,0])\n",
    "print(\"2 first labels:\")\n",
    "display(labels_train[0:2]) # the observation at time 15 and 16 basically"
   ]
  },
  {
   "cell_type": "markdown",
   "metadata": {},
   "source": [
    "We proceed by trying out various combination of activation functions and regularization techniques. Early stopping is used in some cases: training will stop when the validation loss fails to improve for 3 consecutive epochs."
   ]
  },
  {
   "cell_type": "markdown",
   "metadata": {},
   "source": [
    "| Model | activation |  regularization | early stopping? |\n",
    "| --- | --- | --- | --- |\n",
    "| 0 | relu | dropout | yes\n",
    "| 1 | elu | dropout | yes\n",
    "| 2 | tanh | dropout | no\n",
    "| 3 | elu | dropout + L1 | no\n",
    "| 4 | elu | dropout + L2 | no\n",
    "| 5 | tanh | L2 | yes"
   ]
  },
  {
   "cell_type": "code",
   "execution_count": 9,
   "metadata": {},
   "outputs": [
    {
     "name": "stdout",
     "output_type": "stream",
     "text": [
      "Model: \"sequential_1\"\n",
      "_________________________________________________________________\n",
      "Layer (type)                 Output Shape              Param #   \n",
      "=================================================================\n",
      "simple_rnn_1 (SimpleRNN)     (None, 10)                120       \n",
      "_________________________________________________________________\n",
      "dropout_1 (Dropout)          (None, 10)                0         \n",
      "_________________________________________________________________\n",
      "dense_1 (Dense)              (None, 1)                 11        \n",
      "=================================================================\n",
      "Total params: 131\n",
      "Trainable params: 131\n",
      "Non-trainable params: 0\n",
      "_________________________________________________________________\n"
     ]
    }
   ],
   "source": [
    "n_features = 1\n",
    "\n",
    "model = models.Sequential()\n",
    "model.add(layers.SimpleRNN(10, activation='relu', input_shape=(n_timesteps,n_features)))\n",
    "model.add(Dropout(0.2))\n",
    "model.add(layers.Dense(1, activation='linear'))  # produce output\n",
    "\n",
    "model.summary()"
   ]
  },
  {
   "cell_type": "code",
   "execution_count": 11,
   "metadata": {},
   "outputs": [
    {
     "name": "stdout",
     "output_type": "stream",
     "text": [
      "Epoch 1/40\n",
      "11828/11828 [==============================] - 53s 4ms/step - loss: 8.8400 - val_loss: 0.2695\n",
      "Epoch 2/40\n",
      "11828/11828 [==============================] - 57s 5ms/step - loss: 6.4408 - val_loss: 0.4561\n",
      "Epoch 3/40\n",
      "11828/11828 [==============================] - 54s 5ms/step - loss: 5.8399 - val_loss: 0.2687\n",
      "Epoch 4/40\n",
      "11828/11828 [==============================] - 53s 4ms/step - loss: 5.8340 - val_loss: 0.3186\n",
      "Epoch 5/40\n",
      "11828/11828 [==============================] - 53s 4ms/step - loss: 5.8953 - val_loss: 0.5688\n",
      "Epoch 6/40\n",
      "11828/11828 [==============================] - 52s 4ms/step - loss: 5.8002 - val_loss: 0.4568\n"
     ]
    }
   ],
   "source": [
    "callback = EarlyStopping(monitor=\"val_loss\", patience=3)\n",
    "# This callback will stop the training when there is no improvement in  \n",
    "# the validation loss for three consecutive epochs. \n",
    "\n",
    "nepochs = 40\n",
    "model.compile(optimizer='adam',\n",
    "              loss='mse')\n",
    "history = model.fit(features_set_train, labels_train,\n",
    "          epochs=nepochs,\n",
    "          batch_size=32,\n",
    "          callbacks=[callback],\n",
    "          validation_data=(features_set_test, labels_test))\n",
    "history_rnn = history.history"
   ]
  },
  {
   "cell_type": "code",
   "execution_count": 16,
   "metadata": {},
   "outputs": [
    {
     "name": "stdout",
     "output_type": "stream",
     "text": [
      "Model: \"sequential_2\"\n",
      "_________________________________________________________________\n",
      "Layer (type)                 Output Shape              Param #   \n",
      "=================================================================\n",
      "simple_rnn_2 (SimpleRNN)     (None, 10)                120       \n",
      "_________________________________________________________________\n",
      "dropout_2 (Dropout)          (None, 10)                0         \n",
      "_________________________________________________________________\n",
      "dense_2 (Dense)              (None, 1)                 11        \n",
      "=================================================================\n",
      "Total params: 131\n",
      "Trainable params: 131\n",
      "Non-trainable params: 0\n",
      "_________________________________________________________________\n"
     ]
    }
   ],
   "source": [
    "model1 = models.Sequential()\n",
    "model1.add(layers.SimpleRNN(10, activation='elu', input_shape=(n_timesteps,n_features)))\n",
    "model1.add(Dropout(0.2))\n",
    "model1.add(layers.Dense(1, activation='linear'))\n",
    "\n",
    "model1.summary()"
   ]
  },
  {
   "cell_type": "code",
   "execution_count": 17,
   "metadata": {},
   "outputs": [
    {
     "name": "stdout",
     "output_type": "stream",
     "text": [
      "Epoch 1/40\n",
      "11828/11828 [==============================] - 53s 5ms/step - loss: 4.7387 - val_loss: 0.1908\n",
      "Epoch 2/40\n",
      "11828/11828 [==============================] - 49s 4ms/step - loss: 2.4533 - val_loss: 0.0892\n",
      "Epoch 3/40\n",
      "11828/11828 [==============================] - 54s 5ms/step - loss: 2.1266 - val_loss: 0.0990\n",
      "Epoch 4/40\n",
      "11828/11828 [==============================] - 47s 4ms/step - loss: 1.9683 - val_loss: 0.0660\n",
      "Epoch 5/40\n",
      "11828/11828 [==============================] - 47s 4ms/step - loss: 1.8969 - val_loss: 0.1993\n",
      "Epoch 6/40\n",
      "11828/11828 [==============================] - 47s 4ms/step - loss: 1.8965 - val_loss: 0.0945\n",
      "Epoch 7/40\n",
      "11828/11828 [==============================] - 48s 4ms/step - loss: 1.8759 - val_loss: 0.0962\n"
     ]
    }
   ],
   "source": [
    "callback = EarlyStopping(monitor='val_loss', patience=3) \n",
    "\n",
    "nepochs = 40\n",
    "\n",
    "model1.compile(optimizer='adam',\n",
    "              loss='mse')\n",
    "history1 = model1.fit(features_set_train, labels_train,\n",
    "          epochs=nepochs,\n",
    "          batch_size=32,\n",
    "          callbacks=[callback],\n",
    "          validation_data=(features_set_test, labels_test))\n",
    "history_rnn1 = history1.history"
   ]
  },
  {
   "cell_type": "code",
   "execution_count": 20,
   "metadata": {},
   "outputs": [
    {
     "name": "stdout",
     "output_type": "stream",
     "text": [
      "Model: \"sequential_3\"\n",
      "_________________________________________________________________\n",
      "Layer (type)                 Output Shape              Param #   \n",
      "=================================================================\n",
      "simple_rnn_3 (SimpleRNN)     (None, 10)                120       \n",
      "_________________________________________________________________\n",
      "dropout_3 (Dropout)          (None, 10)                0         \n",
      "_________________________________________________________________\n",
      "dense_3 (Dense)              (None, 1)                 11        \n",
      "=================================================================\n",
      "Total params: 131\n",
      "Trainable params: 131\n",
      "Non-trainable params: 0\n",
      "_________________________________________________________________\n"
     ]
    }
   ],
   "source": [
    "model2 = models.Sequential()\n",
    "model2.add(layers.SimpleRNN(10, activation='tanh', input_shape=(n_timesteps,n_features)))\n",
    "model2.add(Dropout(0.2))\n",
    "model2.add(layers.Dense(1, activation='linear'))\n",
    "\n",
    "model2.summary()"
   ]
  },
  {
   "cell_type": "code",
   "execution_count": 21,
   "metadata": {},
   "outputs": [
    {
     "name": "stdout",
     "output_type": "stream",
     "text": [
      "Epoch 1/40\n",
      "11828/11828 [==============================] - 54s 5ms/step - loss: 11.8239 - val_loss: 0.1643\n",
      "Epoch 2/40\n",
      "11828/11828 [==============================] - 50s 4ms/step - loss: 2.1090 - val_loss: 0.1072\n",
      "Epoch 3/40\n",
      "11828/11828 [==============================] - 51s 4ms/step - loss: 1.8894 - val_loss: 0.1698\n",
      "Epoch 4/40\n",
      "11828/11828 [==============================] - 54s 5ms/step - loss: 1.8683 - val_loss: 0.1105\n",
      "Epoch 5/40\n",
      "11828/11828 [==============================] - 54s 5ms/step - loss: 1.8618 - val_loss: 0.0814\n",
      "Epoch 6/40\n",
      "11828/11828 [==============================] - 52s 4ms/step - loss: 1.8695 - val_loss: 0.2087\n",
      "Epoch 7/40\n",
      "11828/11828 [==============================] - 51s 4ms/step - loss: 1.8371 - val_loss: 0.0751\n",
      "Epoch 8/40\n",
      "11828/11828 [==============================] - 53s 5ms/step - loss: 1.8511 - val_loss: 0.3999\n",
      "Epoch 9/40\n",
      "11828/11828 [==============================] - 52s 4ms/step - loss: 1.8553 - val_loss: 0.0936\n",
      "Epoch 10/40\n",
      "11828/11828 [==============================] - 54s 5ms/step - loss: 1.8425 - val_loss: 0.1589\n",
      "Epoch 11/40\n",
      "11828/11828 [==============================] - 55s 5ms/step - loss: 1.8484 - val_loss: 0.4412\n",
      "Epoch 12/40\n",
      "11828/11828 [==============================] - 53s 4ms/step - loss: 1.8511 - val_loss: 0.1218\n",
      "Epoch 13/40\n",
      "11828/11828 [==============================] - 52s 4ms/step - loss: 1.8414 - val_loss: 0.1170\n",
      "Epoch 14/40\n",
      "11828/11828 [==============================] - 54s 5ms/step - loss: 1.8444 - val_loss: 0.1331\n",
      "Epoch 15/40\n",
      "11828/11828 [==============================] - 54s 5ms/step - loss: 1.8453 - val_loss: 0.0839\n",
      "Epoch 16/40\n",
      "11828/11828 [==============================] - 52s 4ms/step - loss: 1.8399 - val_loss: 0.2037\n",
      "Epoch 17/40\n",
      "11828/11828 [==============================] - 52s 4ms/step - loss: 1.8345 - val_loss: 0.0737\n",
      "Epoch 18/40\n",
      "11828/11828 [==============================] - 52s 4ms/step - loss: 1.8368 - val_loss: 0.1207\n",
      "Epoch 19/40\n",
      "11828/11828 [==============================] - 52s 4ms/step - loss: 1.8412 - val_loss: 0.1570\n",
      "Epoch 20/40\n",
      "11828/11828 [==============================] - 55s 5ms/step - loss: 1.8449 - val_loss: 0.1741\n",
      "Epoch 21/40\n",
      "11828/11828 [==============================] - 52s 4ms/step - loss: 1.8345 - val_loss: 0.1204\n",
      "Epoch 22/40\n",
      "11828/11828 [==============================] - 51s 4ms/step - loss: 1.8352 - val_loss: 0.1900\n",
      "Epoch 23/40\n",
      "11828/11828 [==============================] - 51s 4ms/step - loss: 1.8360 - val_loss: 0.0686\n",
      "Epoch 24/40\n",
      "11828/11828 [==============================] - 51s 4ms/step - loss: 1.8486 - val_loss: 0.0908\n",
      "Epoch 25/40\n",
      "11828/11828 [==============================] - 51s 4ms/step - loss: 1.8387 - val_loss: 0.3650\n",
      "Epoch 26/40\n",
      "11828/11828 [==============================] - 55s 5ms/step - loss: 1.8377 - val_loss: 0.1469\n",
      "Epoch 27/40\n",
      "11828/11828 [==============================] - 53s 4ms/step - loss: 1.8392 - val_loss: 0.0661\n",
      "Epoch 28/40\n",
      "11828/11828 [==============================] - 51s 4ms/step - loss: 1.8296 - val_loss: 0.0884\n",
      "Epoch 29/40\n",
      "11828/11828 [==============================] - 51s 4ms/step - loss: 1.8209 - val_loss: 0.0997\n",
      "Epoch 30/40\n",
      "11828/11828 [==============================] - 51s 4ms/step - loss: 1.8498 - val_loss: 0.3213\n",
      "Epoch 31/40\n",
      "11828/11828 [==============================] - 51s 4ms/step - loss: 1.8339 - val_loss: 0.0768\n",
      "Epoch 32/40\n",
      "11828/11828 [==============================] - 51s 4ms/step - loss: 1.8490 - val_loss: 0.0680\n",
      "Epoch 33/40\n",
      "11828/11828 [==============================] - 53s 4ms/step - loss: 1.8374 - val_loss: 0.0943\n",
      "Epoch 34/40\n",
      "11828/11828 [==============================] - 50s 4ms/step - loss: 1.8468 - val_loss: 0.1845\n",
      "Epoch 35/40\n",
      "11828/11828 [==============================] - 49s 4ms/step - loss: 1.8393 - val_loss: 0.2656\n",
      "Epoch 36/40\n",
      "11828/11828 [==============================] - 49s 4ms/step - loss: 1.8237 - val_loss: 0.0860\n",
      "Epoch 37/40\n",
      "11828/11828 [==============================] - 44s 4ms/step - loss: 1.8405 - val_loss: 0.1999\n",
      "Epoch 38/40\n",
      "11828/11828 [==============================] - 48s 4ms/step - loss: 1.8276 - val_loss: 0.1428\n",
      "Epoch 39/40\n",
      "11828/11828 [==============================] - 47s 4ms/step - loss: 1.8475 - val_loss: 0.0903\n",
      "Epoch 40/40\n",
      "11828/11828 [==============================] - 45s 4ms/step - loss: 1.8472 - val_loss: 0.0813\n"
     ]
    }
   ],
   "source": [
    "model2.compile(optimizer='adam',\n",
    "              loss='mse')\n",
    "history2 = model2.fit(features_set_train, labels_train,\n",
    "          epochs=nepochs,\n",
    "          batch_size=32,\n",
    "          validation_data=(features_set_test, labels_test))\n",
    "history_rnn2 = history2.history"
   ]
  },
  {
   "cell_type": "code",
   "execution_count": 24,
   "metadata": {},
   "outputs": [
    {
     "name": "stdout",
     "output_type": "stream",
     "text": [
      "Model: \"sequential_5\"\n",
      "_________________________________________________________________\n",
      "Layer (type)                 Output Shape              Param #   \n",
      "=================================================================\n",
      "simple_rnn_5 (SimpleRNN)     (None, 10)                120       \n",
      "_________________________________________________________________\n",
      "dropout_5 (Dropout)          (None, 10)                0         \n",
      "_________________________________________________________________\n",
      "dense_5 (Dense)              (None, 1)                 11        \n",
      "=================================================================\n",
      "Total params: 131\n",
      "Trainable params: 131\n",
      "Non-trainable params: 0\n",
      "_________________________________________________________________\n"
     ]
    }
   ],
   "source": [
    "lam = 0.0001\n",
    "\n",
    "model3 = models.Sequential()\n",
    "model3.add(layers.SimpleRNN(10, kernel_regularizer=regularizers.l1(lam), activation='elu', input_shape=(n_timesteps,n_features)))\n",
    "model3.add(Dropout(0.2))\n",
    "model3.add(layers.Dense(1, activation='linear'))\n",
    "\n",
    "model3.summary()"
   ]
  },
  {
   "cell_type": "code",
   "execution_count": 25,
   "metadata": {},
   "outputs": [
    {
     "name": "stdout",
     "output_type": "stream",
     "text": [
      "Epoch 1/40\n",
      "11828/11828 [==============================] - 67s 6ms/step - loss: 5.2843 - val_loss: 0.1130\n",
      "Epoch 2/40\n",
      "11828/11828 [==============================] - 55s 5ms/step - loss: 2.3476 - val_loss: 0.0743\n",
      "Epoch 3/40\n",
      "11828/11828 [==============================] - 52s 4ms/step - loss: 1.9983 - val_loss: 0.0917\n",
      "Epoch 4/40\n",
      "11828/11828 [==============================] - 48s 4ms/step - loss: 1.9064 - val_loss: 0.1195\n",
      "Epoch 5/40\n",
      "11828/11828 [==============================] - 49s 4ms/step - loss: 1.8828 - val_loss: 0.1103\n",
      "Epoch 6/40\n",
      "11828/11828 [==============================] - 52s 4ms/step - loss: 1.8644 - val_loss: 0.1240\n",
      "Epoch 7/40\n",
      "11828/11828 [==============================] - 52s 4ms/step - loss: 1.8651 - val_loss: 0.0781\n",
      "Epoch 8/40\n",
      "11828/11828 [==============================] - 52s 4ms/step - loss: 1.8626 - val_loss: 0.1453\n",
      "Epoch 9/40\n",
      "11828/11828 [==============================] - 49s 4ms/step - loss: 1.8446 - val_loss: 0.1567\n",
      "Epoch 10/40\n",
      "11828/11828 [==============================] - 49s 4ms/step - loss: 1.8499 - val_loss: 0.1361\n",
      "Epoch 11/40\n",
      "11828/11828 [==============================] - 50s 4ms/step - loss: 1.8502 - val_loss: 0.0695\n",
      "Epoch 12/40\n",
      "11828/11828 [==============================] - 50s 4ms/step - loss: 1.8414 - val_loss: 0.1313\n",
      "Epoch 13/40\n",
      "11828/11828 [==============================] - 49s 4ms/step - loss: 1.8553 - val_loss: 0.0790\n",
      "Epoch 14/40\n",
      "11828/11828 [==============================] - 49s 4ms/step - loss: 1.8560 - val_loss: 0.1003\n",
      "Epoch 15/40\n",
      "11828/11828 [==============================] - 49s 4ms/step - loss: 1.8504 - val_loss: 0.1638\n",
      "Epoch 16/40\n",
      "11828/11828 [==============================] - 49s 4ms/step - loss: 1.8453 - val_loss: 0.1274\n",
      "Epoch 17/40\n",
      "11828/11828 [==============================] - 51s 4ms/step - loss: 1.8542 - val_loss: 0.2277\n",
      "Epoch 18/40\n",
      "11828/11828 [==============================] - 51s 4ms/step - loss: 1.8531 - val_loss: 0.1108\n",
      "Epoch 19/40\n",
      "11828/11828 [==============================] - 53s 4ms/step - loss: 1.8634 - val_loss: 0.0763\n",
      "Epoch 20/40\n",
      "11828/11828 [==============================] - 51s 4ms/step - loss: 1.8430 - val_loss: 0.1113\n",
      "Epoch 21/40\n",
      "11828/11828 [==============================] - 51s 4ms/step - loss: 1.8591 - val_loss: 0.1407\n",
      "Epoch 22/40\n",
      "11828/11828 [==============================] - 51s 4ms/step - loss: 1.8445 - val_loss: 0.0815\n",
      "Epoch 23/40\n",
      "11828/11828 [==============================] - 51s 4ms/step - loss: 1.8467 - val_loss: 0.0812\n",
      "Epoch 24/40\n",
      "11828/11828 [==============================] - 50s 4ms/step - loss: 1.8437 - val_loss: 0.0829\n",
      "Epoch 25/40\n",
      "11828/11828 [==============================] - 50s 4ms/step - loss: 1.8346 - val_loss: 0.0749\n",
      "Epoch 26/40\n",
      "11828/11828 [==============================] - 50s 4ms/step - loss: 1.8483 - val_loss: 0.2578\n",
      "Epoch 27/40\n",
      "11828/11828 [==============================] - 51s 4ms/step - loss: 1.8548 - val_loss: 0.0977\n",
      "Epoch 28/40\n",
      "11828/11828 [==============================] - 52s 4ms/step - loss: 1.8492 - val_loss: 0.0843\n",
      "Epoch 29/40\n",
      "11828/11828 [==============================] - 49s 4ms/step - loss: 1.8500 - val_loss: 0.1154\n",
      "Epoch 30/40\n",
      "11828/11828 [==============================] - 49s 4ms/step - loss: 1.8508 - val_loss: 0.3138\n",
      "Epoch 31/40\n",
      "11828/11828 [==============================] - 50s 4ms/step - loss: 1.8406 - val_loss: 0.1660\n",
      "Epoch 32/40\n",
      "11828/11828 [==============================] - 49s 4ms/step - loss: 1.8441 - val_loss: 0.1049\n",
      "Epoch 33/40\n",
      "11828/11828 [==============================] - 50s 4ms/step - loss: 1.8275 - val_loss: 0.3090\n",
      "Epoch 34/40\n",
      "11828/11828 [==============================] - 44s 4ms/step - loss: 1.8533 - val_loss: 0.1057\n",
      "Epoch 35/40\n",
      "11828/11828 [==============================] - 45s 4ms/step - loss: 1.8448 - val_loss: 0.1280\n",
      "Epoch 36/40\n",
      "11828/11828 [==============================] - 45s 4ms/step - loss: 1.8520 - val_loss: 0.1081\n",
      "Epoch 37/40\n",
      "11828/11828 [==============================] - 45s 4ms/step - loss: 1.8419 - val_loss: 0.2503\n",
      "Epoch 38/40\n",
      "11828/11828 [==============================] - 45s 4ms/step - loss: 1.8357 - val_loss: 0.1293\n",
      "Epoch 39/40\n",
      "11828/11828 [==============================] - 45s 4ms/step - loss: 1.8499 - val_loss: 0.0960\n",
      "Epoch 40/40\n",
      "11828/11828 [==============================] - 44s 4ms/step - loss: 1.8363 - val_loss: 0.1564\n"
     ]
    }
   ],
   "source": [
    "model3.compile(optimizer='adam',\n",
    "              loss='mse')\n",
    "history3 = model3.fit(features_set_train, labels_train,\n",
    "          epochs=nepochs,\n",
    "          batch_size=32,\n",
    "          validation_data=(features_set_test, labels_test))\n",
    "history_rnn3 = history3.history"
   ]
  },
  {
   "cell_type": "code",
   "execution_count": 27,
   "metadata": {},
   "outputs": [
    {
     "name": "stdout",
     "output_type": "stream",
     "text": [
      "Model: \"sequential_6\"\n",
      "_________________________________________________________________\n",
      "Layer (type)                 Output Shape              Param #   \n",
      "=================================================================\n",
      "simple_rnn_6 (SimpleRNN)     (None, 10)                120       \n",
      "_________________________________________________________________\n",
      "dropout_6 (Dropout)          (None, 10)                0         \n",
      "_________________________________________________________________\n",
      "dense_6 (Dense)              (None, 1)                 11        \n",
      "=================================================================\n",
      "Total params: 131\n",
      "Trainable params: 131\n",
      "Non-trainable params: 0\n",
      "_________________________________________________________________\n"
     ]
    }
   ],
   "source": [
    "lam = 0.0001\n",
    "\n",
    "model4 = models.Sequential()\n",
    "model4.add(layers.SimpleRNN(10, kernel_regularizer=regularizers.l2(lam), activation='elu', input_shape=(n_timesteps,n_features)))\n",
    "model4.add(Dropout(0.2))\n",
    "model4.add(layers.Dense(1, activation='linear'))\n",
    "\n",
    "model4.summary()"
   ]
  },
  {
   "cell_type": "code",
   "execution_count": 28,
   "metadata": {},
   "outputs": [
    {
     "name": "stdout",
     "output_type": "stream",
     "text": [
      "Epoch 1/40\n",
      "11828/11828 [==============================] - 58s 5ms/step - loss: 4.5699 - val_loss: 0.1167\n",
      "Epoch 2/40\n",
      "11828/11828 [==============================] - 53s 4ms/step - loss: 2.4415 - val_loss: 0.2925\n",
      "Epoch 3/40\n",
      "11828/11828 [==============================] - 53s 4ms/step - loss: 2.1247 - val_loss: 0.1028\n",
      "Epoch 4/40\n",
      "11828/11828 [==============================] - 50s 4ms/step - loss: 2.0033 - val_loss: 0.0885\n",
      "Epoch 5/40\n",
      "11828/11828 [==============================] - 52s 4ms/step - loss: 1.9479 - val_loss: 0.2138\n",
      "Epoch 6/40\n",
      "11828/11828 [==============================] - 49s 4ms/step - loss: 1.8933 - val_loss: 0.1017\n",
      "Epoch 7/40\n",
      "11828/11828 [==============================] - 49s 4ms/step - loss: 1.8780 - val_loss: 0.1806\n",
      "Epoch 8/40\n",
      "11828/11828 [==============================] - 49s 4ms/step - loss: 1.8597 - val_loss: 0.1484\n",
      "Epoch 9/40\n",
      "11828/11828 [==============================] - 50s 4ms/step - loss: 1.8564 - val_loss: 0.0938\n",
      "Epoch 10/40\n",
      "11828/11828 [==============================] - 49s 4ms/step - loss: 1.8544 - val_loss: 0.0978\n",
      "Epoch 11/40\n",
      "11828/11828 [==============================] - 50s 4ms/step - loss: 1.8552 - val_loss: 0.0875\n",
      "Epoch 12/40\n",
      "11828/11828 [==============================] - 51s 4ms/step - loss: 1.8504 - val_loss: 0.2116\n",
      "Epoch 13/40\n",
      "11828/11828 [==============================] - 44s 4ms/step - loss: 1.8585 - val_loss: 0.0933\n",
      "Epoch 14/40\n",
      "11828/11828 [==============================] - 42s 4ms/step - loss: 1.8630 - val_loss: 0.0817\n",
      "Epoch 15/40\n",
      "11828/11828 [==============================] - 43s 4ms/step - loss: 1.8612 - val_loss: 0.3182\n",
      "Epoch 16/40\n",
      "11828/11828 [==============================] - 44s 4ms/step - loss: 1.8645 - val_loss: 0.1367\n",
      "Epoch 17/40\n",
      "11828/11828 [==============================] - 45s 4ms/step - loss: 1.8386 - val_loss: 0.0959\n",
      "Epoch 18/40\n",
      "11828/11828 [==============================] - 43s 4ms/step - loss: 1.8531 - val_loss: 0.0836\n",
      "Epoch 19/40\n",
      "11828/11828 [==============================] - 43s 4ms/step - loss: 1.8578 - val_loss: 0.1494\n",
      "Epoch 20/40\n",
      "11828/11828 [==============================] - 43s 4ms/step - loss: 1.8438 - val_loss: 0.0988\n",
      "Epoch 21/40\n",
      "11828/11828 [==============================] - 44s 4ms/step - loss: 1.8489 - val_loss: 0.1150\n",
      "Epoch 22/40\n",
      "11828/11828 [==============================] - 45s 4ms/step - loss: 1.8566 - val_loss: 0.0976\n",
      "Epoch 23/40\n",
      "11828/11828 [==============================] - 45s 4ms/step - loss: 1.8576 - val_loss: 0.0837\n",
      "Epoch 24/40\n",
      "11828/11828 [==============================] - 45s 4ms/step - loss: 1.8460 - val_loss: 0.1458\n",
      "Epoch 25/40\n",
      "11828/11828 [==============================] - 44s 4ms/step - loss: 1.8446 - val_loss: 0.1319\n",
      "Epoch 26/40\n",
      "11828/11828 [==============================] - 47s 4ms/step - loss: 1.8420 - val_loss: 0.0864\n",
      "Epoch 27/40\n",
      "11828/11828 [==============================] - 45s 4ms/step - loss: 1.8466 - val_loss: 0.1128\n",
      "Epoch 28/40\n",
      "11828/11828 [==============================] - 43s 4ms/step - loss: 1.8332 - val_loss: 0.0995\n",
      "Epoch 29/40\n",
      "11828/11828 [==============================] - 46s 4ms/step - loss: 1.8513 - val_loss: 0.0781\n",
      "Epoch 30/40\n",
      "11828/11828 [==============================] - 44s 4ms/step - loss: 1.8489 - val_loss: 0.1299\n",
      "Epoch 31/40\n",
      "11828/11828 [==============================] - 45s 4ms/step - loss: 1.8406 - val_loss: 0.1065\n",
      "Epoch 32/40\n",
      "11828/11828 [==============================] - 45s 4ms/step - loss: 1.8356 - val_loss: 0.2049\n",
      "Epoch 33/40\n",
      "11828/11828 [==============================] - 44s 4ms/step - loss: 1.8383 - val_loss: 0.1032\n",
      "Epoch 34/40\n",
      "11828/11828 [==============================] - 46s 4ms/step - loss: 1.8531 - val_loss: 0.0831\n",
      "Epoch 35/40\n",
      "11828/11828 [==============================] - 46s 4ms/step - loss: 1.8502 - val_loss: 0.0995\n",
      "Epoch 36/40\n",
      "11828/11828 [==============================] - 46s 4ms/step - loss: 1.8517 - val_loss: 0.0760\n",
      "Epoch 37/40\n",
      "11828/11828 [==============================] - 46s 4ms/step - loss: 1.8514 - val_loss: 0.0786\n",
      "Epoch 38/40\n",
      "11828/11828 [==============================] - 45s 4ms/step - loss: 1.8352 - val_loss: 0.0822\n",
      "Epoch 39/40\n",
      "11828/11828 [==============================] - 51s 4ms/step - loss: 1.8493 - val_loss: 0.0813\n",
      "Epoch 40/40\n",
      "11828/11828 [==============================] - 46s 4ms/step - loss: 1.8371 - val_loss: 0.0747\n"
     ]
    }
   ],
   "source": [
    "model4.compile(optimizer='adam',\n",
    "              loss='mse')\n",
    "history4 = model4.fit(features_set_train, labels_train,\n",
    "          epochs=nepochs,\n",
    "          batch_size=32,\n",
    "          validation_data=(features_set_test, labels_test))\n",
    "history_rnn4 = history4.history"
   ]
  },
  {
   "cell_type": "code",
   "execution_count": 29,
   "metadata": {},
   "outputs": [
    {
     "name": "stdout",
     "output_type": "stream",
     "text": [
      "Model: \"sequential_7\"\n",
      "_________________________________________________________________\n",
      "Layer (type)                 Output Shape              Param #   \n",
      "=================================================================\n",
      "simple_rnn_7 (SimpleRNN)     (None, 10)                120       \n",
      "_________________________________________________________________\n",
      "dense_7 (Dense)              (None, 1)                 11        \n",
      "=================================================================\n",
      "Total params: 131\n",
      "Trainable params: 131\n",
      "Non-trainable params: 0\n",
      "_________________________________________________________________\n"
     ]
    }
   ],
   "source": [
    "lam = 0.0001\n",
    "\n",
    "model5 = models.Sequential()\n",
    "model5.add(layers.SimpleRNN(10, kernel_regularizer=regularizers.l2(lam), activation='tanh', input_shape=(n_timesteps,n_features)))\n",
    "model5.add(layers.Dense(1, activation='linear'))\n",
    "\n",
    "model5.summary()"
   ]
  },
  {
   "cell_type": "code",
   "execution_count": 30,
   "metadata": {},
   "outputs": [
    {
     "name": "stdout",
     "output_type": "stream",
     "text": [
      "Epoch 1/40\n",
      "11828/11828 [==============================] - 56s 5ms/step - loss: 7.7794 - val_loss: 0.1011\n",
      "Epoch 2/40\n",
      "11828/11828 [==============================] - 53s 4ms/step - loss: 0.0679 - val_loss: 0.0534\n",
      "Epoch 3/40\n",
      "11828/11828 [==============================] - 60s 5ms/step - loss: 0.0484 - val_loss: 0.0485\n",
      "Epoch 4/40\n",
      "11828/11828 [==============================] - 55s 5ms/step - loss: 0.0466 - val_loss: 0.0484\n",
      "Epoch 5/40\n",
      "11828/11828 [==============================] - 52s 4ms/step - loss: 0.0462 - val_loss: 0.0489\n",
      "Epoch 6/40\n",
      "11828/11828 [==============================] - 52s 4ms/step - loss: 0.0460 - val_loss: 0.0597\n",
      "Epoch 7/40\n",
      "11828/11828 [==============================] - 52s 4ms/step - loss: 0.0458 - val_loss: 0.0483\n",
      "Epoch 8/40\n",
      "11828/11828 [==============================] - 53s 4ms/step - loss: 0.0455 - val_loss: 0.0472\n",
      "Epoch 9/40\n",
      "11828/11828 [==============================] - 55s 5ms/step - loss: 0.0456 - val_loss: 0.0472\n",
      "Epoch 10/40\n",
      "11828/11828 [==============================] - 53s 4ms/step - loss: 0.0450 - val_loss: 0.0542\n",
      "Epoch 11/40\n",
      "11828/11828 [==============================] - 51s 4ms/step - loss: 0.0447 - val_loss: 0.0476\n"
     ]
    }
   ],
   "source": [
    "callback = EarlyStopping(monitor='val_loss', patience=3) \n",
    "\n",
    "nepochs = 40\n",
    "\n",
    "model5.compile(optimizer='adam',\n",
    "              loss='mse')\n",
    "history5 = model5.fit(features_set_train, labels_train,\n",
    "          epochs=nepochs,\n",
    "          batch_size=32,\n",
    "          callbacks=[callback],\n",
    "          validation_data=(features_set_test, labels_test))\n",
    "history_rnn5 = history5.history"
   ]
  },
  {
   "cell_type": "markdown",
   "metadata": {},
   "source": [
    "It turns out that our last model give best performance: it has lowest minimum test MSE and lowest MSE at the end of training. We thus proceed with model 5."
   ]
  },
  {
   "cell_type": "markdown",
   "metadata": {},
   "source": [
    "Please plot the last 1440 observations of temperature (10 days) along with fitted values. Add  144 forecasted values (1 day) to the same plot. Make sure to add an appropriate title, x- and y-labels, and legend to differentiate between observed, fitted, and forecasted values."
   ]
  },
  {
   "cell_type": "code",
   "execution_count": 31,
   "metadata": {},
   "outputs": [
    {
     "data": {
      "text/plain": [
       "array([[-9.8390465],\n",
       "       [-9.223932 ],\n",
       "       [-9.76844  ],\n",
       "       ...,\n",
       "       [-3.0172496],\n",
       "       [-3.085093 ],\n",
       "       [-4.730851 ]], dtype=float32)"
      ]
     },
     "execution_count": 31,
     "metadata": {},
     "output_type": "execute_result"
    }
   ],
   "source": [
    "xhat = model5.predict(features_set)\n",
    "xhat"
   ]
  },
  {
   "cell_type": "code",
   "execution_count": 65,
   "metadata": {},
   "outputs": [],
   "source": [
    "counter = 0\n",
    "for i in range(n_timesteps, n_timesteps+144):\n",
    "    forecast[i] = model5.predict(np.reshape(forecast[counter:counter+n_timesteps], (1, 34, 1)))\n",
    "    counter += 1"
   ]
  },
  {
   "cell_type": "code",
   "execution_count": 66,
   "metadata": {},
   "outputs": [
    {
     "data": {
      "text/plain": [
       "array([-1.28      , -1.67      , -1.25      , -1.03      , -0.98      ,\n",
       "       -1.4       , -1.47      , -1.61      , -1.65      , -1.52      ,\n",
       "       -1.4       , -2.15      , -3.19      , -3.3       , -3.46      ,\n",
       "       -3.09      , -2.75      , -2.61      , -2.51      , -2.48      ,\n",
       "       -2.48      , -2.59      , -2.89      , -3.22      , -4.08      ,\n",
       "       -4.45      , -4.09      , -3.76      , -3.93      , -4.05      ,\n",
       "       -3.35      , -3.16      , -4.23      , -4.82      , -5.06026697,\n",
       "       -5.2244916 , -5.37456846, -5.49399042, -5.58570719, -5.65329695,\n",
       "       -5.69973993, -5.72778749, -5.73988771, -5.73823309, -5.72478914,\n",
       "       -5.70131445, -5.6693759 , -5.63036203, -5.58550501, -5.53588724,\n",
       "       -5.48245573, -5.42604399, -5.36736441, -5.30704355, -5.24561548,\n",
       "       -5.18354082, -5.12120771, -5.05894613, -4.99703455, -4.93569994,\n",
       "       -4.87512922, -4.81547689, -4.75686312, -4.69937944, -4.64309549,\n",
       "       -4.58806086, -4.534307  , -4.4818511 , -4.43069458, -4.38083029,\n",
       "       -4.33224392, -4.28491211, -4.23880625, -4.19389296, -4.15013266,\n",
       "       -4.10748577, -4.06591129, -4.02536774, -3.98581266, -3.94720221,\n",
       "       -3.90949202, -3.87264109, -3.83660841, -3.80135298, -3.76683664,\n",
       "       -3.73302174, -3.69987249, -3.66735458, -3.63543463, -3.60407925,\n",
       "       -3.57326221, -3.54295349, -3.51312447, -3.48375177, -3.4548111 ,\n",
       "       -3.42627859, -3.39813089, -3.37034798, -3.34291267, -3.31580496,\n",
       "       -3.28900719, -3.26250315, -3.23627806, -3.21031618, -3.18460131,\n",
       "       -3.15912294, -3.13387012, -3.10882807, -3.08398485, -3.05933189,\n",
       "       -3.03485727, -3.01055288, -2.98640776, -2.96241331, -2.93856192,\n",
       "       -2.91484404, -2.89125299, -2.86778116, -2.84442234, -2.82116747,\n",
       "       -2.7980113 , -2.77494574, -2.75196648, -2.72906733, -2.70624256,\n",
       "       -2.68348837, -2.66079664, -2.63816309, -2.61558247, -2.59305143,\n",
       "       -2.57056427, -2.54811668, -2.52570486, -2.50332403, -2.48096991,\n",
       "       -2.45863962, -2.43632746, -2.41403151, -2.39174795, -2.36947203,\n",
       "       -2.34720182, -2.32493162, -2.30266047, -2.28038549, -2.25810242,\n",
       "       -2.23580694, -2.21349764, -2.19117117, -2.16882563, -2.1464572 ,\n",
       "       -2.12406397, -2.10164213, -2.07918787, -2.05670166, -2.03418016,\n",
       "       -2.01161909, -1.98901701, -1.96637392, -1.94368505, -1.92094851,\n",
       "       -1.89816427, -1.87532854, -1.85243845, -1.82949305, -1.80649042,\n",
       "       -1.78342772, -1.76030302, -1.73711443, -1.71386194, -1.69054031,\n",
       "       -1.66715193, -1.64369488, -1.62016439, -1.59656191, -1.57288504,\n",
       "       -1.54913092, -1.52529955, -1.50138903])"
      ]
     },
     "execution_count": 66,
     "metadata": {},
     "output_type": "execute_result"
    }
   ],
   "source": [
    "forecast"
   ]
  },
  {
   "cell_type": "markdown",
   "metadata": {},
   "source": [
    "#### Plot the last 1440 observations of temperature (10 days) along with fitted values and add 144 forecasted values (1 day) to the same plot."
   ]
  },
  {
   "cell_type": "code",
   "execution_count": 74,
   "metadata": {},
   "outputs": [
    {
     "data": {
      "image/png": "[encoded data removed]",
      "text/plain": [
       "<Figure size 1152x432 with 1 Axes>"
      ]
     },
     "metadata": {
      "needs_background": "light"
     },
     "output_type": "display_data"
    }
   ],
   "source": [
    "window = np.arange(len(xt)-1440,len(xt))\n",
    "window_forecast = np.arange(len(xt), len(xt) + 144)\n",
    "\n",
    "plt.figure(figsize=(16,6))\n",
    "plt.title(\"Jena temperature simple RNN fit\",fontsize=16)\n",
    "\n",
    "plt.axvline(x=len(xt)-1,linestyle=':',color='k')\n",
    "plt.plot(window,xt[window], linestyle=':', marker='o',color='blue',label = \"$x_t$ actual realization\")\n",
    "plt.plot(window,xhat[window-n_timesteps], linestyle=':', marker='o',color='red',label = \"$\\hat{x}_t$ fitted values\")\n",
    "plt.plot(window_forecast,forecast[n_timesteps:], linestyle=':', marker='o',color='green',label = \"$\\hat{x}_t$ forcasted values\")\n",
    "\n",
    "plt.grid(True)\n",
    "plt.legend(loc = 'lower center',fontsize=16)\n",
    "plt.show()"
   ]
  },
  {
   "cell_type": "code",
   "execution_count": null,
   "metadata": {},
   "outputs": [],
   "source": []
  }
 ],
 "metadata": {
  "anaconda-cloud": {},
  "kernelspec": {
   "display_name": "Python 3",
   "language": "python",
   "name": "python3"
  },
  "language_info": {
   "codemirror_mode": {
    "name": "ipython",
    "version": 3
   },
   "file_extension": ".py",
   "mimetype": "text/x-python",
   "name": "python",
   "nbconvert_exporter": "python",
   "pygments_lexer": "ipython3",
   "version": "3.8.5"
  }
 },
 "nbformat": 4,
 "nbformat_minor": 1
}
